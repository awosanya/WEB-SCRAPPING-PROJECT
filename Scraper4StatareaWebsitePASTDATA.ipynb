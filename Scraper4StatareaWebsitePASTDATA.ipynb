{
  "nbformat": 4,
  "nbformat_minor": 0,
  "metadata": {
    "colab": {
      "name": "Scraper4StatareaWebsitePASTDATA.ipynb",
      "provenance": []
    },
    "kernelspec": {
      "name": "python3",
      "display_name": "Python 3"
    },
    "language_info": {
      "name": "python"
    }
  },
  "cells": [
    {
      "cell_type": "markdown",
      "metadata": {
        "id": "bNKPT2_A9Anz"
      },
      "source": [
        "**Scrapping Project:** Getting Data from www.statarea.com for Prediction purpose\n",
        "**Author :** Oladimeji .O. Awosanya"
      ]
    },
    {
      "cell_type": "markdown",
      "metadata": {
        "id": "KsCCOl0AKuz0"
      },
      "source": [
        "# **LOADING LIBRARY**"
      ]
    },
    {
      "cell_type": "code",
      "metadata": {
        "id": "kHqRAmFEjEGy"
      },
      "source": [
        "import requests, csv, time\n",
        "from bs4 import BeautifulSoup\n"
      ],
      "execution_count": 1,
      "outputs": []
    },
    {
      "cell_type": "markdown",
      "metadata": {
        "id": "3CfA2eakKkQV"
      },
      "source": [
        "# **CRAPPING STATAREA WEBSITE AND GETTING DATA**"
      ]
    },
    {
      "cell_type": "code",
      "metadata": {
        "id": "VwsxOyl6jZhg"
      },
      "source": [
        "csv_STATAREAData = [ ]\n",
        "website = requests.get('http://www.statarea.com/predictions/date/2021-07-05/competition')\n",
        "time.sleep(3)\n",
        "soup = BeautifulSoup(website.text, 'html.parser')\n",
        "dataContainer = soup.find('div', class_='datacotainer')\n",
        "gameContainer = dataContainer.find_all('div', class_='competition')\n",
        "\n",
        "\n",
        "for gamelist in gameContainer:\n",
        "\n",
        "  try :        \n",
        "      hostTeam = gamelist.find('div', class_='hostteam')\n",
        "      hostTeamName = hostTeam.select_one('.name > a').get_text()\n",
        "      hostTeamGoal = int(hostTeam.select_one('.goals').get_text())\n",
        "      \n",
        "      \n",
        "      guestTeam = gamelist.find('div', class_='guestteam')\n",
        "      guestTeamName = guestTeam.select_one('.name > a').get_text()\n",
        "      guestTeamGoals = int(guestTeam.select_one('.goals').get_text())\n",
        "      \n",
        "      total_Goals = hostTeamGoal + guestTeamGoals\n",
        "\n",
        "      gameTip4 = str(gamelist.find('div', class_='type4'))[19:21]\n",
        "      gameTip5 = str(gamelist.find('div', class_='type5'))[19:21]\n",
        "\n",
        "  except:\n",
        "      pass\n",
        "    \n",
        "  try:\n",
        "      probabilityRow = gamelist.select_one('.coefrow')\n",
        "      probabilityBox = probabilityRow.select('.value')\n",
        "      \n",
        "      homeWinProbability = int(probabilityBox[0].get_text())\n",
        "      drawProbability = int(probabilityBox[1].get_text())\n",
        "      awayWinProbability = int(probabilityBox[2].get_text())\n",
        "\n",
        "      Diff_b_Team = homeWinProbability - awayWinProbability\n",
        "      Diff_b_HTeam = homeWinProbability - drawProbability\n",
        "      Diff_b_ATeam = awayWinProbability - drawProbability\n",
        "\n",
        "      HT1 = int(probabilityBox[3].get_text())\n",
        "      HTX = int(probabilityBox[4].get_text())\n",
        "      HT2 = int(probabilityBox[5].get_text())\n",
        "\n",
        "      HT_Diff_b_Team = HT1 - HT2\n",
        "      HT_Diff_b_HTeam = HT1 - HTX\n",
        "      HT_Diff_b_ATeam = HT2 - HTX\n",
        "\n",
        "      overOnePointFive = int(probabilityBox[6].get_text())\n",
        "      overTwoPointFive = int(probabilityBox[7].get_text())\n",
        "      overThreePointFive = int(probabilityBox[8].get_text())\n",
        "\n",
        "      Over15_1 = overOnePointFive - overThreePointFive\n",
        "      Over25_2 = overOnePointFive - overTwoPointFive\n",
        "      Over35_3 = overThreePointFive - overTwoPointFive\n",
        "\n",
        "      bootTeamToScore = int(probabilityBox[9].get_text())\n",
        "      OnlyTeamToScore = int(probabilityBox[10].get_text())\n",
        "\n",
        "      bootTeamToScore1 = int(probabilityBox[9].get_text())\n",
        "      OnlyTeamToScore1 = int(probabilityBox[10].get_text())\n",
        "\n",
        "      if gameTip4 == '1X':\n",
        "        csv_STATAREAData.append([hostTeamName + \" VS \" + guestTeamName,hostTeamGoal,guestTeamGoals,total_Goals,'1X',homeWinProbability,drawProbability,awayWinProbability,\n",
        "                                Diff_b_Team,Diff_b_HTeam,Diff_b_ATeam,HT1,HTX,HT2,HT_Diff_b_Team,HT_Diff_b_HTeam,HT_Diff_b_ATeam,overOnePointFive,\n",
        "                                overTwoPointFive,overThreePointFive,Over15_1,Over25_2,Over35_3,bootTeamToScore,OnlyTeamToScore])\n",
        "      if gameTip5 == 'X2':\n",
        "        csv_STATAREAData.append([hostTeamName + \" VS \" + guestTeamName,hostTeamGoal,guestTeamGoals,total_Goals,'X2',homeWinProbability,drawProbability,awayWinProbability,\n",
        "                                Diff_b_Team,Diff_b_HTeam,Diff_b_ATeam,HT1,HTX,HT2,HT_Diff_b_Team,HT_Diff_b_HTeam,HT_Diff_b_ATeam,overOnePointFive,\n",
        "                                overTwoPointFive,overThreePointFive,Over15_1,Over25_2,Over35_3,bootTeamToScore,OnlyTeamToScore])\n",
        "  except:\n",
        "      pass\n"
      ],
      "execution_count": 24,
      "outputs": []
    },
    {
      "cell_type": "markdown",
      "metadata": {
        "id": "lCl_SbGtKeI9"
      },
      "source": [
        "# **SAVING TO CSV FILE**"
      ]
    },
    {
      "cell_type": "code",
      "metadata": {
        "id": "iD6KowMljo0X"
      },
      "source": [
        "with open('SOCCER_RAW_DATA.csv','w') as file:\n",
        "    writer = csv.writer(file)\n",
        "    writer.writerows(csv_STATAREAData)"
      ],
      "execution_count": 25,
      "outputs": []
    }
  ]
}